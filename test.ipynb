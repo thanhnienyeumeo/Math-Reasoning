{
 "cells": [
  {
   "cell_type": "code",
   "execution_count": null,
   "metadata": {
    "vscode": {
     "languageId": "plaintext"
    }
   },
   "outputs": [],
   "source": [
    "import os\n",
    "import torch\n",
    "from transformers import AutoModelForCausalLM, AutoTokenizer, Trainer, TrainingArguments, Trainer, pipeline\n",
    "from peft import LoraConfig\n",
    "from datasets import Dataset\n",
    "import datasets\n",
    "from trl import SFTTrainer, PPOTrainer\n",
    "\n",
    "from tqdm import tqdm\n",
    "#load model name\n",
    "# model_name = \"qwen/Qwen2.5-0.5B\"\n",
    "import argparse"
   ]
  }
 ],
 "metadata": {
  "language_info": {
   "name": "python"
  }
 },
 "nbformat": 4,
 "nbformat_minor": 2
}
